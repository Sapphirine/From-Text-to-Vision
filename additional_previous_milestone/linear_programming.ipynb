{
 "cells": [
  {
   "cell_type": "code",
   "execution_count": 1,
   "metadata": {
    "collapsed": true
   },
   "outputs": [],
   "source": [
    "import numpy as np\n",
    "emb=np.load(\"emb.npy\")\n",
    "vi=np.load(\"text_prob.npy\")\n",
    "wi=np.load(\"cluter_prob.npy\")"
   ]
  },
  {
   "cell_type": "code",
   "execution_count": 3,
   "metadata": {
    "collapsed": true
   },
   "outputs": [],
   "source": [
    "f=open(\"d:/deep/sis/annotation.txt\")\n",
    "text=f.readlines()\n",
    "words=[]\n",
    "dic=set()\n",
    "for line in text:\n",
    "    word=line.split()\n",
    "    for w in word:\n",
    "        if w.isalnum():\n",
    "            dic.add(w)\n",
    "            words.append(w)\n",
    "f.close()"
   ]
  },
  {
   "cell_type": "code",
   "execution_count": 4,
   "metadata": {
    "collapsed": true
   },
   "outputs": [],
   "source": [
    "f=open(\"d:/deep/caption/annotation.txt\")\n",
    "text=f.readlines()\n",
    "for line in text:\n",
    "    word=line.split()\n",
    "    for w in word:\n",
    "        if w.isalnum():\n",
    "            dic.add(w)\n",
    "            words.append(w)\n",
    "f.close()"
   ]
  },
  {
   "cell_type": "code",
   "execution_count": 5,
   "metadata": {
    "collapsed": true
   },
   "outputs": [],
   "source": [
    "f=open(\"d:/deep/annotations/captions.txt\")\n",
    "text=f.readlines()\n",
    "for line in text:\n",
    "    word=line.split()\n",
    "    for w in word:\n",
    "        w=\"\".join(l for l in w if l not in {',','.','!','?','\\\"','(',')','\\''})\n",
    "        if len(w)>0:\n",
    "            dic.add(w)\n",
    "            words.append(w)\n",
    "f.close()"
   ]
  },
  {
   "cell_type": "code",
   "execution_count": 6,
   "metadata": {
    "collapsed": true
   },
   "outputs": [],
   "source": [
    "import collections\n",
    "import math\n",
    "def build_dataset(words, vocabulary_size):\n",
    "    count = [['UNK', -1]]\n",
    "    count.extend(collections.Counter(words).most_common(vocabulary_size - 1))\n",
    "    dictionary = dict()\n",
    "    for word, _ in count:\n",
    "        dictionary[word] = len(dictionary)\n",
    "    data = list()\n",
    "    unk_count = 0\n",
    "    for word in words:\n",
    "        if word in dictionary:\n",
    "            index = dictionary[word]\n",
    "        else:\n",
    "            index = 0  # dictionary['UNK']\n",
    "            unk_count += 1\n",
    "        data.append(index)\n",
    "    count[0][1] = unk_count\n",
    "    reverse_dictionary = dict(zip(dictionary.values(), dictionary.keys()))\n",
    "    return data, count, dictionary, reverse_dictionary"
   ]
  },
  {
   "cell_type": "code",
   "execution_count": 8,
   "metadata": {
    "collapsed": false
   },
   "outputs": [],
   "source": [
    "data, count, dictionary, reverse_dictionary = build_dataset(words, len(dic))"
   ]
  },
  {
   "cell_type": "code",
   "execution_count": 9,
   "metadata": {
    "collapsed": true
   },
   "outputs": [],
   "source": [
    "import pulp\n",
    "prob=pulp.LpProblem(\"Optimization Problem\",pulp.LpMinimize)\n",
    "weights=pulp.LpVariable.dicts(\"weight\",(category,dictionary),lowBound=0.0,upBound=1.0)\n",
    "for i in category:\n",
    "    for j in dictionary:\n",
    "        prob+=abs(weights[i][j]*vi[i][j]-wi[i][j])\n",
    "for j in dictionary:\n",
    "    prob+=pulp.lpSum([weights[i][j] for i in category])==1\n",
    "prob.solve()\n",
    "res={}\n",
    "for i in category:\n",
    "    for j in dictionary:\n",
    "        res[(i,j)]=weights[i][j].value()\n"
   ]
  },
  {
   "cell_type": "code",
   "execution_count": 11,
   "metadata": {
    "collapsed": true
   },
   "outputs": [],
   "source": [
    "np.save('weights.npy',res)"
   ]
  }
 ],
 "metadata": {
  "kernelspec": {
   "display_name": "Python [conda root]",
   "language": "python",
   "name": "conda-root-py"
  },
  "language_info": {
   "codemirror_mode": {
    "name": "ipython",
    "version": 3
   },
   "file_extension": ".py",
   "mimetype": "text/x-python",
   "name": "python",
   "nbconvert_exporter": "python",
   "pygments_lexer": "ipython3",
   "version": "3.5.2"
  }
 },
 "nbformat": 4,
 "nbformat_minor": 1
}
