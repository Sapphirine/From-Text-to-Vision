{
 "cells": [
  {
   "cell_type": "code",
   "execution_count": 27,
   "metadata": {
    "collapsed": false
   },
   "outputs": [],
   "source": [
    "import urllib \n",
    "import urllib2\n",
    "import numpy as np\n",
    "inset=np.load(\"inset.npy\")\n",
    "ids=inset.tolist()"
   ]
  },
  {
   "cell_type": "code",
   "execution_count": 28,
   "metadata": {
    "collapsed": false
   },
   "outputs": [
    {
     "name": "stdout",
     "output_type": "stream",
     "text": [
      "downloading:151808\n",
      "downloading:338826\n",
      "downloading:537355\n",
      "downloading:400472\n",
      "downloading:360342\n",
      "downloading:184474\n",
      "downloading:405660\n",
      "downloading:28826\n",
      "downloading:575776\n",
      "downloading:359203\n",
      "downloading:273188\n",
      "downloading:221477\n",
      "downloading:419624\n",
      "downloading:573622\n",
      "downloading:486968\n",
      "downloading:35899\n",
      "downloading:271457\n",
      "downloading:283849\n",
      "downloading:143946\n",
      "downloading:553678\n",
      "downloading:505040\n",
      "downloading:371155\n",
      "downloading:503255\n",
      "downloading:277208\n",
      "downloading:256859\n",
      "downloading:10077\n",
      "downloading:218960\n",
      "downloading:406885\n",
      "downloading:164583\n",
      "downloading:413287\n",
      "downloading:341752\n",
      "downloading:479099\n"
     ]
    }
   ],
   "source": [
    "url=\"http://mscoco.org/images/\"\n",
    "for xid in ids:\n",
    "    print (\"downloading:\"+str(xid))\n",
    "    urllib.urlretrieve(url+str(xid),\"d:/deep/images/cluster2/\"+str(xid)+\".jpg\")"
   ]
  },
  {
   "cell_type": "code",
   "execution_count": 11,
   "metadata": {
    "collapsed": false
   },
   "outputs": [
    {
     "data": {
      "text/plain": [
       "array(set([56713, 57357, 358799, 196244, 362275, 552902, 115379, 220344, 236730, 213438, 294724, 350278, 372807, 63958, 408542, 180447, 317024, 554981, 276852, 540564, 210042, 291582, 445439]), dtype=object)"
      ]
     },
     "execution_count": 11,
     "metadata": {},
     "output_type": "execute_result"
    }
   ],
   "source": [
    "np.array(inset)"
   ]
  },
  {
   "cell_type": "code",
   "execution_count": 12,
   "metadata": {
    "collapsed": false
   },
   "outputs": [
    {
     "data": {
      "text/plain": [
       "array(set([56713, 57357, 358799, 196244, 362275, 552902, 115379, 220344, 236730, 213438, 294724, 350278, 372807, 63958, 408542, 180447, 317024, 554981, 276852, 540564, 210042, 291582, 445439]), dtype=object)"
      ]
     },
     "execution_count": 12,
     "metadata": {},
     "output_type": "execute_result"
    }
   ],
   "source": [
    "inset"
   ]
  },
  {
   "cell_type": "code",
   "execution_count": 14,
   "metadata": {
    "collapsed": false
   },
   "outputs": [
    {
     "ename": "AttributeError",
     "evalue": "'numpy.ndarray' object has no attribute 'toset'",
     "output_type": "error",
     "traceback": [
      "\u001b[1;31m---------------------------------------------------------------------------\u001b[0m",
      "\u001b[1;31mAttributeError\u001b[0m                            Traceback (most recent call last)",
      "\u001b[1;32m<ipython-input-14-153c3584f05f>\u001b[0m in \u001b[0;36m<module>\u001b[1;34m()\u001b[0m\n\u001b[1;32m----> 1\u001b[1;33m \u001b[0minset\u001b[0m\u001b[1;33m.\u001b[0m\u001b[0mtoset\u001b[0m\u001b[1;33m(\u001b[0m\u001b[1;33m)\u001b[0m\u001b[1;33m\u001b[0m\u001b[0m\n\u001b[0m",
      "\u001b[1;31mAttributeError\u001b[0m: 'numpy.ndarray' object has no attribute 'toset'"
     ]
    }
   ],
   "source": []
  },
  {
   "cell_type": "code",
   "execution_count": null,
   "metadata": {
    "collapsed": true
   },
   "outputs": [],
   "source": []
  }
 ],
 "metadata": {
  "kernelspec": {
   "display_name": "Python [conda env:py2]",
   "language": "python",
   "name": "conda-env-py2-py"
  },
  "language_info": {
   "codemirror_mode": {
    "name": "ipython",
    "version": 2
   },
   "file_extension": ".py",
   "mimetype": "text/x-python",
   "name": "python",
   "nbconvert_exporter": "python",
   "pygments_lexer": "ipython2",
   "version": "2.7.13"
  }
 },
 "nbformat": 4,
 "nbformat_minor": 1
}
